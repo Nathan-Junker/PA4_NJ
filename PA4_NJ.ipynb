{
 "cells": [
  {
   "cell_type": "code",
   "execution_count": 13,
   "id": "1674ee16",
   "metadata": {},
   "outputs": [
    {
     "name": "stdout",
     "output_type": "stream",
     "text": [
      "Enter a word to translate from English to Irish (enter 0 to stop)\n",
      ":cow\n",
      "The Spanish word for cow is vaca\n",
      "Enter a word to translate from English to Irish (enter 0 to stop)\n",
      ":shoe\n",
      "The Spanish word for shoe is zapato\n",
      "Enter a word to translate from English to Irish (enter 0 to stop)\n",
      ":deny\n",
      "The Spanish word for deny is negar\n",
      "Enter a word to translate from English to Irish (enter 0 to stop)\n",
      ":window\n",
      "The Spanish word for window is ventana\n",
      "Enter a word to translate from English to Irish (enter 0 to stop)\n",
      ":sheep\n",
      "The Spanish word for sheep is not in this dictionary.\n",
      "Enter a word to translate from English to Irish (enter 0 to stop)\n",
      ":0\n"
     ]
    }
   ],
   "source": [
    "translation_flag= True\n",
    "\n",
    "#Spanish\n",
    "Translation = {\"sky\": \"cielo\", #1\n",
    "              \"hello\": \"hola\",#2\n",
    "               \"green\": \"verde\", #3\n",
    "               \"red\": \"rojo\", #4\n",
    "               \"foot\": \"pie\",#5\n",
    "               \"computer\": \"computadora\", #6\n",
    "               \"room\": \"sala\", #7\n",
    "               \"deny\": \"negar\", #8\n",
    "               \"of\": \"de\", #9\n",
    "               \"i\": \"yo\", #10\n",
    "               \"window\": \"ventana\", #11\n",
    "               \"cow\": \"vaca\", #12\n",
    "               \"shoe\": 'zapato', #13\n",
    "               \"example\": \"ejemplo\", #14\n",
    "               \"library\": 'biblioteca', #15\n",
    "               \"science\": 'ciencia', #16\n",
    "               \"book\": \"libro\", #17\n",
    "               \"important\": \"importante\", #18\n",
    "               \"purse\": \"bolsa\", #19 \n",
    "               \"movie\": \"pelicula\" #20\n",
    "              }\n",
    "\n",
    "while translation_flag:\n",
    "    English_word=input(\"Enter a word to translate from English to Irish (enter 0 to stop)\\n:\")\n",
    "    if English_word in Translation.keys():\n",
    "         print(\"The Spanish word for\", English_word, \"is\", Translation[English_word])\n",
    "    elif English_word == \"0\":\n",
    "        translation_flag= False\n",
    "    else:\n",
    "        print(\"The Spanish word for\", English_word, \"is not in this dictionary.\")"
   ]
  },
  {
   "cell_type": "code",
   "execution_count": 22,
   "id": "3f39e22f",
   "metadata": {},
   "outputs": [
    {
     "data": {
      "text/plain": [
       "{'1': 28.88888888888889,\n",
       " '2': 30.0,\n",
       " '3': 27.77777777777778,\n",
       " '4': 27.22222222222222,\n",
       " '5': 26.11111111111111,\n",
       " '6': 26.11111111111111,\n",
       " '7': 27.22222222222222,\n",
       " '8': 27.22222222222222,\n",
       " '9': 28.88888888888889,\n",
       " '10': 27.77777777777778,\n",
       " '11': 25.0,\n",
       " '12': 22.77777777777778,\n",
       " '13': 22.77777777777778,\n",
       " '14': 26.11111111111111,\n",
       " '15': 27.77777777777778,\n",
       " '16': 28.88888888888889,\n",
       " '17': 28.88888888888889,\n",
       " '18': 28.88888888888889,\n",
       " '19': 28.88888888888889,\n",
       " '20': 31.11111111111111,\n",
       " '21': 35.0,\n",
       " '22': 22.77777777777778,\n",
       " '23': 20.0,\n",
       " '24': 25.0,\n",
       " '25': 25.0,\n",
       " '26': 21.11111111111111,\n",
       " '27': 20.555555555555554,\n",
       " '28': 18.88888888888889,\n",
       " '29': 22.22222222222222,\n",
       " '30': 21.11111111111111}"
      ]
     },
     "execution_count": 22,
     "metadata": {},
     "output_type": "execute_result"
    }
   ],
   "source": [
    "\n",
    "weather={ #The weather in september by \"date\": \"Temp\" in F\n",
    "    \"1\": \"84\",\n",
    "    \"2\": \"86\",\n",
    "    \"3\": \"82\",\n",
    "    \"4\": \"81\",\n",
    "    \"5\":\"79\",\n",
    "    \"6\":\"79\",\n",
    "    \"7\":\"81\",\n",
    "    \"8\":\"81\",\n",
    "    \"9\":\"84\",\n",
    "    \"10\":\"82\",\n",
    "    \"11\":\"77\",\n",
    "    \"12\":\"73\",\n",
    "    \"13\":\"73\",\n",
    "    \"14\":\"79\",\n",
    "    \"15\":\"82\",\n",
    "    \"16\":\"84\",\n",
    "    \"17\":\"84\",\n",
    "    \"18\":\"84\",\n",
    "    \"19\":\"84\",\n",
    "    \"20\":\"88\",\n",
    "    \"21\":\"95\",\n",
    "    \"22\":\"73\",\n",
    "    \"23\":\"68\",\n",
    "    \"24\":\"77\",\n",
    "    \"25\":\"77\",\n",
    "    \"26\":\"70\",\n",
    "    \"27\":\"69\",\n",
    "    \"28\":\"66\",\n",
    "    \"29\":\"72\",\n",
    "    \"30\":\"70\",\n",
    "}\n",
    "\n",
    "for i in range(len(weather)):\n",
    "    weather[str(i+1)]=((int(weather[str(i+1)])-32)/1.8)\n",
    "#take the farenheit temperature from each day and converts it to celcius. \n",
    "#reassigns the F temp value in the dictionary to the corresponding new C temp\n",
    "    \n",
    "weather"
   ]
  },
  {
   "cell_type": "code",
   "execution_count": 25,
   "id": "824a3098",
   "metadata": {},
   "outputs": [
    {
     "data": {
      "text/plain": [
       "{1: 1,\n",
       " 2: 4,\n",
       " 3: 9,\n",
       " 4: 16,\n",
       " 5: 25,\n",
       " 6: 36,\n",
       " 7: 49,\n",
       " 8: 64,\n",
       " 9: 81,\n",
       " 10: 100,\n",
       " 11: 121,\n",
       " 12: 144,\n",
       " 13: 169,\n",
       " 14: 196,\n",
       " 15: 225}"
      ]
     },
     "execution_count": 25,
     "metadata": {},
     "output_type": "execute_result"
    }
   ],
   "source": [
    "squares= {}\n",
    "for i in range(1,16):\n",
    "    squares.update({int(i): (int(i)**2)})\n",
    "    \n",
    "squares"
   ]
  },
  {
   "cell_type": "markdown",
   "id": "92119abb",
   "metadata": {},
   "source": [
    "## PA4, Nathan Junker, Version 1, CS 150-01"
   ]
  }
 ],
 "metadata": {
  "kernelspec": {
   "display_name": "Python 3 (ipykernel)",
   "language": "python",
   "name": "python3"
  },
  "language_info": {
   "codemirror_mode": {
    "name": "ipython",
    "version": 3
   },
   "file_extension": ".py",
   "mimetype": "text/x-python",
   "name": "python",
   "nbconvert_exporter": "python",
   "pygments_lexer": "ipython3",
   "version": "3.9.12"
  }
 },
 "nbformat": 4,
 "nbformat_minor": 5
}
